{
 "cells": [
  {
   "cell_type": "raw",
   "id": "23f6a6f5-6caa-40ef-b30d-8f776e505bd6",
   "metadata": {},
   "source": [
    "1.who developed python programming language?\n",
    "Ans- As I mentioned before, Python was designed by \"Guido van Rossum\" at Centrum Wiskunde & Informatica (CWI) in the Netherlands in the late 1980s. He started working on it in December 1989 and released the first version, Python 0.9.0, in 1991."
   ]
  },
  {
   "cell_type": "markdown",
   "id": "7cbd37a4-73ab-4ab4-a4b9-f46cb8141869",
   "metadata": {},
   "source": [
    "2.Which type of programming does python support?\n",
    "Ans-Python is a versatile programming language that supports multiple programming paradigms, including **structured**, **object-oriented** and **functional** programming¹³. It is also **dynamically typed** and **garbage-collected**¹. Python has a comprehensive standard library that provides many built-in data types, such as **numeric**, **sequence**, **boolean**, **set**, **dictionary** and **binary** types."
   ]
  },
  {
   "cell_type": "markdown",
   "id": "c29a291b-d2d8-430b-a97a-794e7769feca",
   "metadata": {},
   "source": [
    "3.Is python case sensitive when dealing with identifiers?\n",
    "Ans- Yes, Python is a case-sensitive language, so identifiers are case-sensitive¹². That means it considers uppercase and lowercase characters differently. For example, `myPet` and `mypet` are different identifiers."
   ]
  },
  {
   "cell_type": "raw",
   "id": "017ab31c-744d-4892-945f-64b28007e76d",
   "metadata": {},
   "source": [
    "4.What is the correct extension of the python file?\n",
    "Ans- The most common extension of a Python file is **.py**, which is the input source code that you've written¹. Other extensions include **.pyc**, which is the compiled bytecode¹, **.pyd**, which is a Windows DLL file¹, **.pyw**, which is a Python script for Windows², and **.pyz**, which is a Python script archive³."
   ]
  },
  {
   "cell_type": "raw",
   "id": "31fbd4f5-fbe3-4cbd-b4b2-1bc6522d972c",
   "metadata": {},
   "source": [
    "5.Is python code compiled or interpreted?\n",
    "Ans- Python is both a compiled and an interpreted language¹². Python source code is first compiled into bytecode, which is a low-level platform-independent representation of the code³⁴. Then, the bytecode is interpreted by a Python Virtual Machine, which executes the code on the device running the Python program¹². This allows Python to be platform-independent."
   ]
  },
  {
   "cell_type": "raw",
   "id": "efbdaef6-6fd7-4e2f-a0ae-715dd45e65f4",
   "metadata": {},
   "source": [
    "6. Name a few blocks of code used to define in python language?\n",
    "Ans- A block of code in Python is a group of statements that are executed as a unit¹³. Blocks of code are created by applying proper indentation for the statements to separate them from other blocks of code²⁴. Some examples of blocks of code in Python are: a module, a function body, a class definition, an if-else statement, a for loop, etc."
   ]
  },
  {
   "cell_type": "markdown",
   "id": "9ca48e07-533f-4bc4-b247-c09c966d9fde",
   "metadata": {},
   "source": [
    "7.State a character used to give single-line comments in python?\n",
    "Ans- The character used to give single-line comments in Python is the hash symbol (#)¹²³⁴. A single-line comment starts with the # symbol and lasts till the end of the line¹². For example:\n",
    "\n",
    "# This is a single-line comment\n",
    "print(\"Hello, world!\") # This is another single-line comment"
   ]
  },
  {
   "cell_type": "markdown",
   "id": "895d7b79-47e6-4bed-96e7-328b58d35977",
   "metadata": {},
   "source": [
    "8.Mention functions which can help us to find the version of python that we are currently working on?\n",
    "Ans- To find the version of Python that you are currently working on, you can use the following methods123:\n",
    "The python -V command\n",
    "Using the sys.version method\n",
    "The python_version() function\n",
    "To check the Python version using the sys module, write: import sys print (sys.version)"
   ]
  },
  {
   "cell_type": "markdown",
   "id": "c07af76b-8d20-488e-a30f-966f3c5f3ee1",
   "metadata": {},
   "source": [
    "9.Python supports the creation of anoymous functions at runtime,using a construct called_________?\n",
    "Ans- Python supports the creation of anonymous functions at runtime, using a construct called lambda. A lambda function is a function that has no name and is defined using the lambda keyword. A lambda function can have any number of arguments but only one expression, which is evaluated and returned."
   ]
  },
  {
   "cell_type": "markdown",
   "id": "00737107-06ad-43ba-978d-d791e980e52c",
   "metadata": {},
   "source": [
    "10.What does pip stand for python?\n",
    "Ans- PIP stands for Pip Installs Packages or Pip Installs Python. It is a package manager for Python packages, or modules if you like. A package is a collection of files that provide some functionality or code that can be reused by other Python programs."
   ]
  },
  {
   "cell_type": "markdown",
   "id": "27ad80b8-5911-4393-bc0f-020923a71d67",
   "metadata": {},
   "source": [
    "11.Mention a few built-in functions in python?\n",
    "Ans- Python has many built-in functions that are always available for use in Python programs. They provide essential and commonly used functionality for various tasks, such as data type conversion, mathematical operations, string manipulation, file operations, etc. Here are a few examples of Python built-in functions:\n",
    "\n",
    "abs(x): Returns the absolute value of a number. The argument may be an integer, a floating point number, or an object implementing __abs__()1.\n",
    "bin(x): Converts an integer number to a binary string prefixed with “0b”. The result is a valid Python expression. If x is not a Python int object, it has to define an __index__() method that returns an integer1.\n",
    "bool(x): Returns the boolean value of the specified object. x is converted using the standard truth testing procedure1.\n",
    "len(x): Returns the length of an object. The argument may be a sequence (such as a string, bytes, tuple, list, or range) or a collection (such as a dictionary, set, or frozen set)1.\n",
    "max(x): Returns the largest item in an iterable or the largest of two or more arguments1.\n",
    "min(x): Returns the smallest item in an iterable or the smallest of two or more arguments1.\n",
    "print(x): Prints the specified message to the screen2.\n",
    "range(x): Returns a sequence of numbers, starting from 0 and increments by 1 (by default)2.\n",
    "sum(x): Returns the sum of the elements in an iterable1.\n",
    "type(x): Returns the type of the specified object."
   ]
  },
  {
   "cell_type": "markdown",
   "id": "3133cc0b-c806-4833-bb60-407163b05340",
   "metadata": {},
   "source": [
    "12.What is the maximum possible length of an identifer in python?\n",
    "Ans- According to the Python documentation, identifiers are unlimited in length1. However, the PEP-8 style guide recommends limiting all lines to a maximum of 79 characters2. Therefore, the maximum possible length of an identifier in Python is 79 characters, assuming you follow the PEP-8 conventions."
   ]
  },
  {
   "cell_type": "markdown",
   "id": "dfb485d8-0396-44da-99cc-883165ac2873",
   "metadata": {},
   "source": [
    "13.What are the benefits of using python?\n",
    "Ans- Python is a popular and versatile programming language that has many benefits for developers and users alike. Some of the benefits of using Python are:\n",
    "\n",
    "Ease of use and readability: Python has a simple, concise, and straightforward syntax that resembles plain English. This makes Python programs easy to write, read, and debug. Python also has a built-in interpreter that allows you to run your code without compiling it, which saves time and effort12.\n",
    "Extensibility and compatibility: Python can be extended with other languages, such as C, C++, or Java, to access their libraries and functionalities. Python also supports multiple programming paradigms, such as object-oriented, procedural, functional, and imperative. Python is platform-independent, meaning it can run on any operating system, such as Windows, Linux, or Mac OS12.\n",
    "Rich libraries and frameworks: Python has a large and comprehensive standard library that provides built-in modules for various tasks, such as data structures, file operations, web development, database connectivity, networking, cryptography, etc. Python also has a wide range of third-party libraries and frameworks that offer additional features and functionalities for specific domains, such as data science, machine learning, web development, game development, etc. Some of the popular Python libraries and frameworks are NumPy, pandas, scikit-learn, TensorFlow, Django, Flask, PyGame, etc134.\n",
    "Vibrant community and support: Python has a huge and active community of developers and users who contribute to its development and improvement. Python also has a lot of online resources, such as documentation, tutorials, blogs, forums, podcasts, videos, etc., that provide guidance and assistance for learning and using Python."
   ]
  },
  {
   "cell_type": "markdown",
   "id": "37f9a503-6714-4037-917c-e9bee1fd5081",
   "metadata": {},
   "source": [
    "14.How is memory managed in python?\n",
    "Ans- Memory management in Python is the process by which Python handles the allocation and deallocation of memory for its objects and data structures. Python uses several techniques and algorithms to manage memory."
   ]
  },
  {
   "cell_type": "markdown",
   "id": "4e199db9-4535-4767-9ffe-84bfec42ea6e",
   "metadata": {},
   "source": [
    "15.How to install python on windows and set path variables?\n",
    "Ans- To install Python on Windows and set path variables, you can follow these steps:\n",
    "\n",
    "Download the latest version of Python from the official website. Choose the installer that matches your system architecture (32-bit or 64-bit) and preferences (executable or web-based).\n",
    "Run the installer and follow the instructions. Make sure to check the box that says “Add Python to PATH” at the bottom of the setup screen. This will automatically add the Python installation directory to your system’s PATH environment variable, which allows you to run Python from any command prompt.\n",
    "Alternatively, you can manually add Python to PATH after installing it. To do that, you need to find the directory where Python is installed, such as C:\\Users\\<USER>\\AppData\\Local\\Programs\\Python\\Python310. Then, you need to open the Environment Variables menu by right-clicking on This PC, selecting Properties, clicking on Advanced system settings, and choosing Environment Variables. In the User variables section, select PATH and click on Edit. Then, click on New and paste the Python directory path. Click on OK to save the changes.\n",
    "To verify that Python is added to PATH, open a new command prompt and type python --version. You should see the version of Python that you installed. You can also type python to enter the interactive mode, where you can execute Python commands directly.\n",
    "You can learn more about installing Python on Windows and adding it to PATH from these sources"
   ]
  },
  {
   "cell_type": "markdown",
   "id": "f735c3a6-b804-426d-8267-6f8afdc0d301",
   "metadata": {},
   "source": [
    "16.Is indentation required in python?\n",
    "Ans- Yes, indentation is required in Python. Indentation refers to the spaces at the beginning of a code line. Unlike other programming languages, where indentation is only for readability, indentation in Python is very important. Python uses indentation to indicate a block of code, which is a group of statements that belong to the same logical unit."
   ]
  }
 ],
 "metadata": {
  "kernelspec": {
   "display_name": "Python 3 (ipykernel)",
   "language": "python",
   "name": "python3"
  },
  "language_info": {
   "codemirror_mode": {
    "name": "ipython",
    "version": 3
   },
   "file_extension": ".py",
   "mimetype": "text/x-python",
   "name": "python",
   "nbconvert_exporter": "python",
   "pygments_lexer": "ipython3",
   "version": "3.10.8"
  }
 },
 "nbformat": 4,
 "nbformat_minor": 5
}
